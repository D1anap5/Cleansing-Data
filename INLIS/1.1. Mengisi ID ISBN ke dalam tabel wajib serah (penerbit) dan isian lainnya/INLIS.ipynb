{
 "cells": [
  {
   "cell_type": "code",
   "execution_count": null,
   "metadata": {},
   "outputs": [],
   "source": [
    "#1.1 dan 1.2 INLIS = melengkapi tabel master publisher di inlis dari tabel isbn publisher#\n",
    "import pandas as pd\n",
    "from pandas import ExcelWriter\n",
    "from pandas import ExcelFile\n",
    "df = pd.read_excel('MASTER_PUBLISHER.xlsx')\n",
    "df1 = pd.read_excel('mst_penerbit.xlsx')\n",
    "df2 = pd.read_excel('propinsi.xlsx')\n",
    "df5 = pd.read_excel ('MASTER_PUBLISHER_GROUP.xlsx')\n",
    "df1.rename(columns={'nama_penerbit':'PUBLISHER_NAME'}, inplace=True)\n",
    "df2.rename(columns={'CODE':'REGION'}, inplace=True)\n",
    "df2['PROVINCE'] = df2['REGION']+['-']+df2['NAMAPROPINSI']\n",
    "df3 = pd.merge(df, df1, on ='PUBLISHER_NAME', how ='inner')\n",
    "df4 = pd.merge(df3, df2, on ='REGION', how='inner')\n",
    "df4['PROVINCE_x']=df4['PROVINCE_y'].replace(df4['PROVINCE_x'])\n",
    "df4.rename(columns={'PROVINCE_x':'PROVINCE'}, inplace=True)\n",
    "del df4['PROVINCE_y']\n",
    "df4.drop(['PUBLISHER_ISBN_ID',\"user_name\",\"password\",\"password1\",\"password2\",'admin_contact_name','admin_fax','admin_email',\n",
    "          'alternate_contact_name','alternate_phone','alternate_fax','alternate_email','alternate_fax',\n",
    "          'website_url','san','gln','registrant_link_id','imprint_indicator','keterangan','validasi',\n",
    "         'rata_terbitan','created_by','created_date','last_upd_by','last_upd_date','validation_date',\n",
    "         'nilai_awal','province_id','city_id','district_id','village_id','provinsi','jenis','file_akte_notaris',\n",
    "         'file_surat_pernyataan','daftar_by','anggota_ikapi','flag_lock','reset_password_code','ID',\n",
    "         'NAMAPROPINSI','CREATEBY','CREATEDATE','CREATETERMINAL','UPDATEBY','UPDATEDATE','UPDATETERMINAL',\n",
    "         'TRASHBY','TRASHDATE','TRASHTERMINAL','CODE_SORT'],axis=1,inplace= True)\n",
    "df4.rename(columns={'kd_penerbit':'PUBLISHER_ISBN_ID'}, inplace=True)\n",
    "df4['ADDRESS1'].fillna(df4['alamat_penerbit'], inplace= True)\n",
    "df4['ADDRESS2'].fillna(df4['alamat_penerbit2'], inplace= True)\n",
    "df4['ADDRESS3'].fillna(df4['alamat_penerbit3'], inplace= True)\n",
    "df4['POS_CODE'].fillna(df4['alamat_penerbit4'], inplace= True)\n",
    "df4.drop(['alamat_penerbit','alamat_penerbit2','alamat_penerbit3','alamat_penerbit4'],axis=1,inplace=True)\n",
    "df6 = pd.merge(df4, df5, on ='PUBLISHER_GROUP_ID', how ='inner')\n",
    "df6.drop(['CREATE_DATE_y','CREATE_BY_y','CREATE_TERMINAL_y','UPDATE_DATE_y','UPDATE_BY_y','UPDATE_TERMINAL_y'],axis=1,inplace=True)\n",
    "df6.rename(columns={'CREATE_BY_x':'CREATE_BY'}, inplace=True)\n",
    "df6.rename(columns={'UPDATE_DATE_x':'UPDATE_DATE'}, inplace=True)\n",
    "df6.rename(columns={'CREATE_TERMINAL_x':'CREATE_TERMINAL'}, inplace=True)\n",
    "df6.rename(columns={'UPDATE_BY_x':'UPDATE_BY'}, inplace=True)\n",
    "df6.rename(columns={'UPDATE_TERMINAL_x':'UPDATE_TERMINAL'}, inplace=True)\n",
    "df6.to_csv(r'C:\\Users\\diana\\Downloads\\inlis_lengkap.csv',index=False)"
   ]
  }
 ],
 "metadata": {
  "kernelspec": {
   "display_name": "Python 3",
   "language": "python",
   "name": "python3"
  },
  "language_info": {
   "codemirror_mode": {
    "name": "ipython",
    "version": 3
   },
   "file_extension": ".py",
   "mimetype": "text/x-python",
   "name": "python",
   "nbconvert_exporter": "python",
   "pygments_lexer": "ipython3",
   "version": "3.8.5"
  }
 },
 "nbformat": 4,
 "nbformat_minor": 4
}
